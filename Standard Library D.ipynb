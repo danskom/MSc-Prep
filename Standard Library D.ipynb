{
 "cells": [
  {
   "cell_type": "code",
   "execution_count": 2,
   "metadata": {},
   "outputs": [],
   "source": [
    "\n",
    "#Standard Data Types Python\n",
    "\n",
    "#tuple = immutable, contain any item type, one dimensional \n",
    "\n",
    "tuple_1 = (1,2,3,4,5)\n",
    "\n",
    "#list = mutable, variable length, one dimensional\n",
    "\n",
    "list_1 = [1,2,3,4,5]\n",
    "\n",
    "#dict = \n",
    "\n",
    "dict_1 = { 'first':1 , 'second':2 , 'three':3}\n",
    "\n",
    "#set = dictionary but with only keys \n",
    "\n",
    "set_1 = (['One','Two', 'Three', 'Four', 'Five'])\n",
    "\n",
    "\n",
    "#class \n",
    "\n",
    "class class_1:\n",
    "    tuple_2 = 1 \n",
    "    list_2 = 2\n",
    "    dict_2 = 3\n",
    "    set_2 = 4\n",
    "    class_2 = 5\n",
    "\n",
    "\n",
    "\n",
    "\n",
    "\n"
   ]
  },
  {
   "cell_type": "code",
   "execution_count": 28,
   "metadata": {},
   "outputs": [
    {
     "name": "stdout",
     "output_type": "stream",
     "text": [
      "4\n"
     ]
    },
    {
     "ename": "AttributeError",
     "evalue": "type object 'data_type' has no attribute 'class_2'",
     "output_type": "error",
     "traceback": [
      "\u001b[0;31m---------------------------------------------------------------------------\u001b[0m",
      "\u001b[0;31mAttributeError\u001b[0m                            Traceback (most recent call last)",
      "\u001b[0;32m<ipython-input-28-b893e0093a0c>\u001b[0m in \u001b[0;36m<module>\u001b[0;34m\u001b[0m\n\u001b[1;32m     13\u001b[0m \u001b[0;34m\u001b[0m\u001b[0m\n\u001b[1;32m     14\u001b[0m \u001b[0mprint\u001b[0m\u001b[0;34m(\u001b[0m\u001b[0mdata_type\u001b[0m\u001b[0;34m.\u001b[0m\u001b[0mset_2\u001b[0m\u001b[0;34m)\u001b[0m\u001b[0;34m\u001b[0m\u001b[0;34m\u001b[0m\u001b[0m\n\u001b[0;32m---> 15\u001b[0;31m \u001b[0mprint\u001b[0m\u001b[0;34m(\u001b[0m\u001b[0mdata_type\u001b[0m\u001b[0;34m.\u001b[0m\u001b[0mclass_2\u001b[0m\u001b[0;34m)\u001b[0m\u001b[0;34m\u001b[0m\u001b[0;34m\u001b[0m\u001b[0m\n\u001b[0m",
      "\u001b[0;31mAttributeError\u001b[0m: type object 'data_type' has no attribute 'class_2'"
     ]
    }
   ],
   "source": [
    "class data_type:\n",
    "    tuple_2 = 1 \n",
    "    list_2 = 2\n",
    "    dict_2 = 3\n",
    "    set_2 = 4\n",
    "    class_2 = 5\n",
    "\n",
    "#delattr(tuple_1,1)\n",
    "#delattr(list_1,1)\n",
    "#delattr(dict_1,'1')\n",
    "#delattr(set_1,1)\n",
    "delattr(data_type,'class_2')\n",
    "\n",
    "print(data_type.set_2)\n",
    "print(data_type.class_2)"
   ]
  },
  {
   "cell_type": "code",
   "execution_count": 25,
   "metadata": {},
   "outputs": [
    {
     "name": "stdout",
     "output_type": "stream",
     "text": [
      "John\n"
     ]
    }
   ],
   "source": [
    "#delattr - deletes attributes from a class\n",
    "\n",
    "class Person:\n",
    "  name = \"John\"\n",
    "  age = 36\n",
    "  country = \"Norway\"\n",
    "\n",
    "delattr(Person, 'age')\n",
    "\n",
    "print(Person.name)\n",
    "#print(Person.age)"
   ]
  },
  {
   "cell_type": "code",
   "execution_count": 9,
   "metadata": {},
   "outputs": [
    {
     "name": "stdout",
     "output_type": "stream",
     "text": [
      "{'first': 1, 'second': 2, 'three': 3}\n",
      "{'first': 1, 'second': 2, 'three': 3}\n"
     ]
    }
   ],
   "source": [
    "#dict creates a dictionary in Python without using {}\n",
    "\n",
    "dict_1 = { 'first':1 , 'second':2 , 'three':3}\n",
    "print(dict_1)\n",
    "\n",
    "dict_3 = dict(first = 1 , second  = 2 , three = 3)\n",
    "print(dict_3)\n"
   ]
  },
  {
   "cell_type": "code",
   "execution_count": 13,
   "metadata": {},
   "outputs": [
    {
     "ename": "NameError",
     "evalue": "name 'tuple_1' is not defined",
     "output_type": "error",
     "traceback": [
      "\u001b[0;31m---------------------------------------------------------------------------\u001b[0m",
      "\u001b[0;31mNameError\u001b[0m                                 Traceback (most recent call last)",
      "\u001b[0;32m<ipython-input-13-c3998c2eb494>\u001b[0m in \u001b[0;36m<module>\u001b[0;34m\u001b[0m\n\u001b[1;32m      8\u001b[0m     \u001b[0mclass_2\u001b[0m \u001b[0;34m=\u001b[0m \u001b[0;36m5\u001b[0m\u001b[0;34m\u001b[0m\u001b[0;34m\u001b[0m\u001b[0m\n\u001b[1;32m      9\u001b[0m \u001b[0;34m\u001b[0m\u001b[0m\n\u001b[0;32m---> 10\u001b[0;31m \u001b[0mprint\u001b[0m\u001b[0;34m(\u001b[0m\u001b[0mdir\u001b[0m\u001b[0;34m(\u001b[0m\u001b[0mtuple_1\u001b[0m\u001b[0;34m)\u001b[0m\u001b[0;34m)\u001b[0m\u001b[0;34m\u001b[0m\u001b[0;34m\u001b[0m\u001b[0m\n\u001b[0m\u001b[1;32m     11\u001b[0m \u001b[0;31m#print(dir(list_1))\u001b[0m\u001b[0;34m\u001b[0m\u001b[0;34m\u001b[0m\u001b[0;34m\u001b[0m\u001b[0m\n\u001b[1;32m     12\u001b[0m \u001b[0;31m#print(dir(set_1))\u001b[0m\u001b[0;34m\u001b[0m\u001b[0;34m\u001b[0m\u001b[0;34m\u001b[0m\u001b[0m\n",
      "\u001b[0;31mNameError\u001b[0m: name 'tuple_1' is not defined"
     ]
    }
   ],
   "source": [
    "# the dir function returns all properties and methods associated with a specified object \n",
    "\n",
    "class class_1:\n",
    "    tuple_2 = 1 \n",
    "    list_2 = 2\n",
    "    dict_2 = 3\n",
    "    set_2 = 4\n",
    "    class_2 = 5\n",
    "\n",
    "print(dir(tuple_1))\n",
    "#print(dir(list_1))\n",
    "#print(dir(set_1))\n",
    "#print(dir(dict_1))\n",
    "print(dir(class_1))\n",
    "\n",
    "\n",
    "\n"
   ]
  },
  {
   "cell_type": "code",
   "execution_count": 11,
   "metadata": {},
   "outputs": [
    {
     "name": "stdout",
     "output_type": "stream",
     "text": [
      "(1, 1)\n"
     ]
    }
   ],
   "source": [
    "# divmod function is the first agrument divided by the second and the remainder\n",
    "\n",
    "\n",
    "def divmod_function(a,b):\n",
    "\n",
    "    c = divmod(a,b)\n",
    "    print(c)\n",
    "    \n",
    "divmod_function(3,2)\n",
    "\n",
    "\n",
    "    \n",
    "\n"
   ]
  }
 ],
 "metadata": {
  "kernelspec": {
   "display_name": "base",
   "language": "python",
   "name": "python3"
  },
  "language_info": {
   "codemirror_mode": {
    "name": "ipython",
    "version": 3
   },
   "file_extension": ".py",
   "mimetype": "text/x-python",
   "name": "python",
   "nbconvert_exporter": "python",
   "pygments_lexer": "ipython3",
   "version": "3.8.8"
  },
  "orig_nbformat": 4,
  "vscode": {
   "interpreter": {
    "hash": "40d3a090f54c6569ab1632332b64b2c03c39dcf918b08424e98f38b5ae0af88f"
   }
  }
 },
 "nbformat": 4,
 "nbformat_minor": 2
}
