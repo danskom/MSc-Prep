{
 "cells": [
  {
   "cell_type": "code",
   "execution_count": null,
   "metadata": {},
   "outputs": [],
   "source": [
    "#Standard Data Types Python\n",
    "\n",
    "#tuple = immutable, contain any item type, one dimensional \n",
    "\n",
    "tuple_1 = (1,2,3,4,5)\n",
    "\n",
    "#list = mutable, variable length, one dimensional\n",
    "\n",
    "list_1 = [1,2,3,4,5]\n",
    "\n",
    "#dict = \n",
    "\n",
    "dict_1 = { 'first':1 , 'second':2 , 'three':3}\n",
    "\n",
    "#set = dictionary but with only keys \n",
    "\n",
    "set_1 = (['One','Two', 'Three', 'Four', 'Five'])\n",
    "\n",
    "\n",
    "#class \n",
    "\n",
    "class class_1:\n",
    "    tuple_2 = 1 \n",
    "    list_2 = 2\n",
    "    dict_2 = 3\n",
    "    set_2 = 4\n",
    "    class_2 = 5"
   ]
  },
  {
   "cell_type": "code",
   "execution_count": 4,
   "metadata": {},
   "outputs": [
    {
     "name": "stdout",
     "output_type": "stream",
     "text": [
      "[(0, 1), (1, 2), (2, 3), (3, 4), (4, 5)]\n"
     ]
    }
   ],
   "source": [
    "#enumerate function in Python cycles through an iterable and adds a number to each iterable ascending like a for loop  \n",
    "\n",
    "list_1 = [1,2,3,4,5]\n",
    "\n",
    "list_2 = enumerate(list_1)\n",
    "\n",
    "print(list(list_2))\n",
    "\n"
   ]
  },
  {
   "cell_type": "code",
   "execution_count": 13,
   "metadata": {},
   "outputs": [
    {
     "name": "stdout",
     "output_type": "stream",
     "text": [
      "101010011000101010011000\n"
     ]
    }
   ],
   "source": [
    "#eval function takes a string or byte(?) and turns it into a int????\n",
    "\n",
    "x = '10101001'\n",
    "z = '1000'\n",
    "y = eval(x+z+x+z)\n",
    "\n",
    "print(y)\n"
   ]
  },
  {
   "cell_type": "code",
   "execution_count": 14,
   "metadata": {},
   "outputs": [
    {
     "name": "stdout",
     "output_type": "stream",
     "text": [
      "None\n"
     ]
    }
   ],
   "source": [
    "#exec function executes code from within a script(?)\n",
    "\n",
    "x = '10101001'\n",
    "z = '1000'\n",
    "y = exec(x+z+x+z)\n",
    "\n",
    "print(y)\n"
   ]
  }
 ],
 "metadata": {
  "kernelspec": {
   "display_name": "base",
   "language": "python",
   "name": "python3"
  },
  "language_info": {
   "codemirror_mode": {
    "name": "ipython",
    "version": 3
   },
   "file_extension": ".py",
   "mimetype": "text/x-python",
   "name": "python",
   "nbconvert_exporter": "python",
   "pygments_lexer": "ipython3",
   "version": "3.8.8"
  },
  "orig_nbformat": 4,
  "vscode": {
   "interpreter": {
    "hash": "40d3a090f54c6569ab1632332b64b2c03c39dcf918b08424e98f38b5ae0af88f"
   }
  }
 },
 "nbformat": 4,
 "nbformat_minor": 2
}
