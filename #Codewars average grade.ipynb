{
 "cells": [
  {
   "cell_type": "code",
   "execution_count": 14,
   "metadata": {},
   "outputs": [
    {
     "name": "stdout",
     "output_type": "stream",
     "text": [
      "F\n"
     ]
    }
   ],
   "source": [
    "def get_grade(s1,s2,s3):\n",
    "    \n",
    "    average = ((s1+s2+s3)/3)\n",
    "\n",
    "    if average >90:\n",
    "        print('A')\n",
    "\n",
    "    elif average >80<90:\n",
    "        print('B')\n",
    "\n",
    "    elif average >70<80:\n",
    "        print('C')\n",
    "    \n",
    "    elif average >60<70:\n",
    "        print ('D')\n",
    "\n",
    "    else: \n",
    "        print ('F')\n",
    "\n",
    "get_grade(50,50,50)\n",
    "\n",
    "\n",
    "\n"
   ]
  }
 ],
 "metadata": {
  "kernelspec": {
   "display_name": "base",
   "language": "python",
   "name": "python3"
  },
  "language_info": {
   "codemirror_mode": {
    "name": "ipython",
    "version": 3
   },
   "file_extension": ".py",
   "mimetype": "text/x-python",
   "name": "python",
   "nbconvert_exporter": "python",
   "pygments_lexer": "ipython3",
   "version": "3.8.8"
  },
  "orig_nbformat": 4,
  "vscode": {
   "interpreter": {
    "hash": "40d3a090f54c6569ab1632332b64b2c03c39dcf918b08424e98f38b5ae0af88f"
   }
  }
 },
 "nbformat": 4,
 "nbformat_minor": 2
}
